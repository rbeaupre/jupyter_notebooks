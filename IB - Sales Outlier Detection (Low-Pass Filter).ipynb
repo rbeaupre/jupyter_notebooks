{
 "cells": [
  {
   "cell_type": "markdown",
   "metadata": {},
   "source": [
    "## IB - Sales Outlier Detection (Low-Pass Filter)\n",
    "\n",
    "By: Renaud Justin Beaupre"
   ]
  },
  {
   "cell_type": "markdown",
   "metadata": {},
   "source": [
    "In this notebook, I will be applying the principles behind [Pramit Choudhary's article on anomaly detection](https://www.datascience.com/blog/python-anomaly-detection) onto IB's sales data from March 2017-2019."
   ]
  },
  {
   "cell_type": "code",
   "execution_count": 1,
   "metadata": {},
   "outputs": [],
   "source": [
    "import pandas as pd\n",
    "import numpy as np\n",
    "import matplotlib.pyplot as plt\n",
    "plt.style.use('fivethirtyeight')\n",
    "%matplotlib inline"
   ]
  },
  {
   "cell_type": "code",
   "execution_count": 2,
   "metadata": {},
   "outputs": [
    {
     "data": {
      "text/html": [
       "<div>\n",
       "<style scoped>\n",
       "    .dataframe tbody tr th:only-of-type {\n",
       "        vertical-align: middle;\n",
       "    }\n",
       "\n",
       "    .dataframe tbody tr th {\n",
       "        vertical-align: top;\n",
       "    }\n",
       "\n",
       "    .dataframe thead th {\n",
       "        text-align: right;\n",
       "    }\n",
       "</style>\n",
       "<table border=\"1\" class=\"dataframe\">\n",
       "  <thead>\n",
       "    <tr style=\"text-align: right;\">\n",
       "      <th></th>\n",
       "      <th>day</th>\n",
       "      <th>orders</th>\n",
       "      <th>gross_sales</th>\n",
       "      <th>discounts</th>\n",
       "      <th>returns</th>\n",
       "      <th>net_sales</th>\n",
       "      <th>shipping</th>\n",
       "      <th>taxes</th>\n",
       "      <th>total_sales</th>\n",
       "    </tr>\n",
       "  </thead>\n",
       "  <tbody>\n",
       "    <tr>\n",
       "      <th>0</th>\n",
       "      <td>2017-03-01</td>\n",
       "      <td>341</td>\n",
       "      <td>12721.0</td>\n",
       "      <td>-398.20</td>\n",
       "      <td>-46.50</td>\n",
       "      <td>12276.30</td>\n",
       "      <td>1349.96</td>\n",
       "      <td>18.59</td>\n",
       "      <td>13644.85</td>\n",
       "    </tr>\n",
       "    <tr>\n",
       "      <th>1</th>\n",
       "      <td>2017-03-02</td>\n",
       "      <td>324</td>\n",
       "      <td>11998.0</td>\n",
       "      <td>-359.70</td>\n",
       "      <td>-225.55</td>\n",
       "      <td>11412.75</td>\n",
       "      <td>1018.58</td>\n",
       "      <td>21.15</td>\n",
       "      <td>12452.48</td>\n",
       "    </tr>\n",
       "    <tr>\n",
       "      <th>2</th>\n",
       "      <td>2017-03-03</td>\n",
       "      <td>304</td>\n",
       "      <td>11612.0</td>\n",
       "      <td>-392.00</td>\n",
       "      <td>-78.00</td>\n",
       "      <td>11142.00</td>\n",
       "      <td>949.34</td>\n",
       "      <td>37.76</td>\n",
       "      <td>12129.10</td>\n",
       "    </tr>\n",
       "    <tr>\n",
       "      <th>3</th>\n",
       "      <td>2017-03-04</td>\n",
       "      <td>298</td>\n",
       "      <td>10485.0</td>\n",
       "      <td>-309.25</td>\n",
       "      <td>0.00</td>\n",
       "      <td>10175.75</td>\n",
       "      <td>975.00</td>\n",
       "      <td>25.64</td>\n",
       "      <td>11176.39</td>\n",
       "    </tr>\n",
       "    <tr>\n",
       "      <th>4</th>\n",
       "      <td>2017-03-05</td>\n",
       "      <td>343</td>\n",
       "      <td>13220.0</td>\n",
       "      <td>-344.25</td>\n",
       "      <td>-237.00</td>\n",
       "      <td>12638.75</td>\n",
       "      <td>1375.79</td>\n",
       "      <td>23.68</td>\n",
       "      <td>14038.22</td>\n",
       "    </tr>\n",
       "  </tbody>\n",
       "</table>\n",
       "</div>"
      ],
      "text/plain": [
       "          day  orders  gross_sales  discounts  returns  net_sales  shipping  \\\n",
       "0  2017-03-01     341      12721.0    -398.20   -46.50   12276.30   1349.96   \n",
       "1  2017-03-02     324      11998.0    -359.70  -225.55   11412.75   1018.58   \n",
       "2  2017-03-03     304      11612.0    -392.00   -78.00   11142.00    949.34   \n",
       "3  2017-03-04     298      10485.0    -309.25     0.00   10175.75    975.00   \n",
       "4  2017-03-05     343      13220.0    -344.25  -237.00   12638.75   1375.79   \n",
       "\n",
       "   taxes  total_sales  \n",
       "0  18.59     13644.85  \n",
       "1  21.15     12452.48  \n",
       "2  37.76     12129.10  \n",
       "3  25.64     11176.39  \n",
       "4  23.68     14038.22  "
      ]
     },
     "execution_count": 2,
     "metadata": {},
     "output_type": "execute_result"
    }
   ],
   "source": [
    "data = pd.read_csv('sales_2017_2019.csv')\n",
    "data.head()"
   ]
  },
  {
   "cell_type": "code",
   "execution_count": 3,
   "metadata": {},
   "outputs": [
    {
     "name": "stdout",
     "output_type": "stream",
     "text": [
      "<class 'pandas.core.frame.DataFrame'>\n",
      "RangeIndex: 761 entries, 0 to 760\n",
      "Data columns (total 9 columns):\n",
      "day            761 non-null object\n",
      "orders         761 non-null int64\n",
      "gross_sales    761 non-null float64\n",
      "discounts      761 non-null float64\n",
      "returns        761 non-null float64\n",
      "net_sales      761 non-null float64\n",
      "shipping       761 non-null float64\n",
      "taxes          761 non-null float64\n",
      "total_sales    761 non-null float64\n",
      "dtypes: float64(7), int64(1), object(1)\n",
      "memory usage: 53.6+ KB\n"
     ]
    }
   ],
   "source": [
    "data.info()"
   ]
  },
  {
   "cell_type": "code",
   "execution_count": 4,
   "metadata": {},
   "outputs": [
    {
     "data": {
      "text/html": [
       "<div>\n",
       "<style scoped>\n",
       "    .dataframe tbody tr th:only-of-type {\n",
       "        vertical-align: middle;\n",
       "    }\n",
       "\n",
       "    .dataframe tbody tr th {\n",
       "        vertical-align: top;\n",
       "    }\n",
       "\n",
       "    .dataframe thead th {\n",
       "        text-align: right;\n",
       "    }\n",
       "</style>\n",
       "<table border=\"1\" class=\"dataframe\">\n",
       "  <thead>\n",
       "    <tr style=\"text-align: right;\">\n",
       "      <th></th>\n",
       "      <th>orders</th>\n",
       "      <th>gross_sales</th>\n",
       "      <th>discounts</th>\n",
       "      <th>returns</th>\n",
       "      <th>net_sales</th>\n",
       "      <th>shipping</th>\n",
       "      <th>taxes</th>\n",
       "      <th>total_sales</th>\n",
       "    </tr>\n",
       "  </thead>\n",
       "  <tbody>\n",
       "    <tr>\n",
       "      <th>count</th>\n",
       "      <td>761.000000</td>\n",
       "      <td>761.000000</td>\n",
       "      <td>761.000000</td>\n",
       "      <td>761.000000</td>\n",
       "      <td>761.000000</td>\n",
       "      <td>761.000000</td>\n",
       "      <td>761.000000</td>\n",
       "      <td>761.000000</td>\n",
       "    </tr>\n",
       "    <tr>\n",
       "      <th>mean</th>\n",
       "      <td>699.975033</td>\n",
       "      <td>24453.899106</td>\n",
       "      <td>-2703.575480</td>\n",
       "      <td>-554.610999</td>\n",
       "      <td>21195.712628</td>\n",
       "      <td>2622.170105</td>\n",
       "      <td>538.671892</td>\n",
       "      <td>24356.554625</td>\n",
       "    </tr>\n",
       "    <tr>\n",
       "      <th>std</th>\n",
       "      <td>454.354129</td>\n",
       "      <td>16715.811342</td>\n",
       "      <td>5293.159431</td>\n",
       "      <td>613.733509</td>\n",
       "      <td>11709.265702</td>\n",
       "      <td>1651.187180</td>\n",
       "      <td>593.702453</td>\n",
       "      <td>13788.007180</td>\n",
       "    </tr>\n",
       "    <tr>\n",
       "      <th>min</th>\n",
       "      <td>128.000000</td>\n",
       "      <td>4862.000000</td>\n",
       "      <td>-72154.630000</td>\n",
       "      <td>-4412.390000</td>\n",
       "      <td>4680.500000</td>\n",
       "      <td>524.000000</td>\n",
       "      <td>11.410000</td>\n",
       "      <td>5271.310000</td>\n",
       "    </tr>\n",
       "    <tr>\n",
       "      <th>25%</th>\n",
       "      <td>370.000000</td>\n",
       "      <td>13824.000000</td>\n",
       "      <td>-2322.700000</td>\n",
       "      <td>-857.850000</td>\n",
       "      <td>13043.800000</td>\n",
       "      <td>1445.040000</td>\n",
       "      <td>115.420000</td>\n",
       "      <td>14678.010000</td>\n",
       "    </tr>\n",
       "    <tr>\n",
       "      <th>50%</th>\n",
       "      <td>665.000000</td>\n",
       "      <td>22447.400000</td>\n",
       "      <td>-1282.250000</td>\n",
       "      <td>-333.450000</td>\n",
       "      <td>20345.980000</td>\n",
       "      <td>2446.000000</td>\n",
       "      <td>205.290000</td>\n",
       "      <td>23386.280000</td>\n",
       "    </tr>\n",
       "    <tr>\n",
       "      <th>75%</th>\n",
       "      <td>858.000000</td>\n",
       "      <td>29132.200000</td>\n",
       "      <td>-526.500000</td>\n",
       "      <td>-82.400000</td>\n",
       "      <td>25982.910000</td>\n",
       "      <td>3241.090000</td>\n",
       "      <td>896.550000</td>\n",
       "      <td>30070.310000</td>\n",
       "    </tr>\n",
       "    <tr>\n",
       "      <th>max</th>\n",
       "      <td>5058.000000</td>\n",
       "      <td>207707.300000</td>\n",
       "      <td>-113.950000</td>\n",
       "      <td>0.000000</td>\n",
       "      <td>142878.030000</td>\n",
       "      <td>18600.000000</td>\n",
       "      <td>5244.500000</td>\n",
       "      <td>166475.470000</td>\n",
       "    </tr>\n",
       "  </tbody>\n",
       "</table>\n",
       "</div>"
      ],
      "text/plain": [
       "            orders    gross_sales     discounts      returns      net_sales  \\\n",
       "count   761.000000     761.000000    761.000000   761.000000     761.000000   \n",
       "mean    699.975033   24453.899106  -2703.575480  -554.610999   21195.712628   \n",
       "std     454.354129   16715.811342   5293.159431   613.733509   11709.265702   \n",
       "min     128.000000    4862.000000 -72154.630000 -4412.390000    4680.500000   \n",
       "25%     370.000000   13824.000000  -2322.700000  -857.850000   13043.800000   \n",
       "50%     665.000000   22447.400000  -1282.250000  -333.450000   20345.980000   \n",
       "75%     858.000000   29132.200000   -526.500000   -82.400000   25982.910000   \n",
       "max    5058.000000  207707.300000   -113.950000     0.000000  142878.030000   \n",
       "\n",
       "           shipping        taxes    total_sales  \n",
       "count    761.000000   761.000000     761.000000  \n",
       "mean    2622.170105   538.671892   24356.554625  \n",
       "std     1651.187180   593.702453   13788.007180  \n",
       "min      524.000000    11.410000    5271.310000  \n",
       "25%     1445.040000   115.420000   14678.010000  \n",
       "50%     2446.000000   205.290000   23386.280000  \n",
       "75%     3241.090000   896.550000   30070.310000  \n",
       "max    18600.000000  5244.500000  166475.470000  "
      ]
     },
     "execution_count": 4,
     "metadata": {},
     "output_type": "execute_result"
    }
   ],
   "source": [
    "data.describe()"
   ]
  },
  {
   "cell_type": "code",
   "execution_count": 5,
   "metadata": {},
   "outputs": [
    {
     "data": {
      "text/html": [
       "<div>\n",
       "<style scoped>\n",
       "    .dataframe tbody tr th:only-of-type {\n",
       "        vertical-align: middle;\n",
       "    }\n",
       "\n",
       "    .dataframe tbody tr th {\n",
       "        vertical-align: top;\n",
       "    }\n",
       "\n",
       "    .dataframe thead th {\n",
       "        text-align: right;\n",
       "    }\n",
       "</style>\n",
       "<table border=\"1\" class=\"dataframe\">\n",
       "  <thead>\n",
       "    <tr style=\"text-align: right;\">\n",
       "      <th></th>\n",
       "      <th>day</th>\n",
       "      <th>total_sales</th>\n",
       "    </tr>\n",
       "  </thead>\n",
       "  <tbody>\n",
       "    <tr>\n",
       "      <th>0</th>\n",
       "      <td>2017-03-01</td>\n",
       "      <td>13644.85</td>\n",
       "    </tr>\n",
       "    <tr>\n",
       "      <th>1</th>\n",
       "      <td>2017-03-02</td>\n",
       "      <td>12452.48</td>\n",
       "    </tr>\n",
       "    <tr>\n",
       "      <th>2</th>\n",
       "      <td>2017-03-03</td>\n",
       "      <td>12129.10</td>\n",
       "    </tr>\n",
       "    <tr>\n",
       "      <th>3</th>\n",
       "      <td>2017-03-04</td>\n",
       "      <td>11176.39</td>\n",
       "    </tr>\n",
       "    <tr>\n",
       "      <th>4</th>\n",
       "      <td>2017-03-05</td>\n",
       "      <td>14038.22</td>\n",
       "    </tr>\n",
       "  </tbody>\n",
       "</table>\n",
       "</div>"
      ],
      "text/plain": [
       "          day  total_sales\n",
       "0  2017-03-01     13644.85\n",
       "1  2017-03-02     12452.48\n",
       "2  2017-03-03     12129.10\n",
       "3  2017-03-04     11176.39\n",
       "4  2017-03-05     14038.22"
      ]
     },
     "execution_count": 5,
     "metadata": {},
     "output_type": "execute_result"
    }
   ],
   "source": [
    "data = data.drop(columns=['orders','gross_sales','discounts','returns','net_sales','shipping','taxes'])\n",
    "data.head() #Drop the columns we don't need"
   ]
  },
  {
   "cell_type": "code",
   "execution_count": 6,
   "metadata": {},
   "outputs": [
    {
     "data": {
      "text/html": [
       "<div>\n",
       "<style scoped>\n",
       "    .dataframe tbody tr th:only-of-type {\n",
       "        vertical-align: middle;\n",
       "    }\n",
       "\n",
       "    .dataframe tbody tr th {\n",
       "        vertical-align: top;\n",
       "    }\n",
       "\n",
       "    .dataframe thead th {\n",
       "        text-align: right;\n",
       "    }\n",
       "</style>\n",
       "<table border=\"1\" class=\"dataframe\">\n",
       "  <thead>\n",
       "    <tr style=\"text-align: right;\">\n",
       "      <th></th>\n",
       "      <th>days</th>\n",
       "      <th>total_sales</th>\n",
       "    </tr>\n",
       "  </thead>\n",
       "  <tbody>\n",
       "    <tr>\n",
       "      <th>0</th>\n",
       "      <td>0</td>\n",
       "      <td>13644.85</td>\n",
       "    </tr>\n",
       "    <tr>\n",
       "      <th>1</th>\n",
       "      <td>1</td>\n",
       "      <td>12452.48</td>\n",
       "    </tr>\n",
       "    <tr>\n",
       "      <th>2</th>\n",
       "      <td>2</td>\n",
       "      <td>12129.10</td>\n",
       "    </tr>\n",
       "    <tr>\n",
       "      <th>3</th>\n",
       "      <td>3</td>\n",
       "      <td>11176.39</td>\n",
       "    </tr>\n",
       "    <tr>\n",
       "      <th>4</th>\n",
       "      <td>4</td>\n",
       "      <td>14038.22</td>\n",
       "    </tr>\n",
       "  </tbody>\n",
       "</table>\n",
       "</div>"
      ],
      "text/plain": [
       "   days  total_sales\n",
       "0     0     13644.85\n",
       "1     1     12452.48\n",
       "2     2     12129.10\n",
       "3     3     11176.39\n",
       "4     4     14038.22"
      ]
     },
     "execution_count": 6,
     "metadata": {},
     "output_type": "execute_result"
    }
   ],
   "source": [
    "data.insert(0, 'days', range(0, 0 + len(data)))\n",
    "data.drop(columns=['day'], inplace=True)\n",
    "data.head() #Instead of a timestamp, we're just going to use an incremeneter"
   ]
  },
  {
   "cell_type": "code",
   "execution_count": 7,
   "metadata": {},
   "outputs": [
    {
     "data": {
      "text/plain": [
       "array([[0.000000e+00, 1.364485e+04],\n",
       "       [1.000000e+00, 1.245248e+04],\n",
       "       [2.000000e+00, 1.212910e+04],\n",
       "       ...,\n",
       "       [7.580000e+02, 4.067642e+04],\n",
       "       [7.590000e+02, 3.820268e+04],\n",
       "       [7.600000e+02, 3.548094e+04]])"
      ]
     },
     "execution_count": 7,
     "metadata": {},
     "output_type": "execute_result"
    }
   ],
   "source": [
    "data_array = data.values\n",
    "data_array #And pass the data as an array"
   ]
  },
  {
   "cell_type": "code",
   "execution_count": 8,
   "metadata": {},
   "outputs": [],
   "source": [
    "from __future__ import division\n",
    "from itertools import count\n",
    "from numpy import linspace, loadtxt, ones, convolve\n",
    "import collections\n",
    "\n",
    "def moving_average(data_array, window_size):\n",
    "    window = np.ones(int(window_size))/float(window_size)\n",
    "    return np.convolve(data_array, window, 'same')"
   ]
  },
  {
   "cell_type": "code",
   "execution_count": 9,
   "metadata": {},
   "outputs": [],
   "source": [
    "def explain_anomalies(y, window_size, sigma=1.0):\n",
    "    avg = moving_average(y, window_size).tolist()\n",
    "    residual = y - avg\n",
    "    #Calculate the variation in the distribution of the residual\n",
    "    std = np.std(residual)\n",
    "    return {'standard_deviation': round(std, 3),\n",
    "            'anomalies_dict': collections.OrderedDict([(index, y_i) for\n",
    "                                                       index, y_i, avg_i in zip(count(), y, avg)\n",
    "              if (y_i > avg_i + (sigma*std)) | (y_i < avg_i - (sigma*std))])}"
   ]
  },
  {
   "cell_type": "code",
   "execution_count": 10,
   "metadata": {},
   "outputs": [],
   "source": [
    "def explain_anomalies_rolling_std(y, window_size, sigma=1.0):\n",
    "    avg = moving_average(y, window_size)\n",
    "    avg_list = avg.tolist()\n",
    "    residual = y - avg\n",
    "    #Calculate the variation in the distribution of the residual\n",
    "    testing_std = pd.rolling_std(residual, window_size)\n",
    "    testing_std_as_df = pd.DataFrame(testing_std)\n",
    "    rolling_std = testing_std_as_df.replace(np.nan,\n",
    "                                  testing_std_as_df.ix[window_size - 1]).round(3).iloc[:,0].tolist()\n",
    "    std = np.std(residual)\n",
    "    return {'stationary standard_deviation': round(std, 3),\n",
    "            'anomalies_dict': collections.OrderedDict([(index, y_i)\n",
    "                                                       for index, y_i, avg_i, rs_i in zip(count(),\n",
    "                                                                                           y, avg_list, rolling_std)\n",
    "              if (y_i > avg_i + (sigma * rs_i)) | (y_i < avg_i - (sigma * rs_i))])}"
   ]
  },
  {
   "cell_type": "code",
   "execution_count": 14,
   "metadata": {},
   "outputs": [],
   "source": [
    "def plot_results(x, y, window_size, sigma_value=1, text_xlabel=\"X Axis\", text_ylabel=\"Y Axis\", applying_rolling_std=False):\n",
    "    plt.figure(figsize=(15, 8))\n",
    "    plt.plot(x, y, \"k.\")\n",
    "    y_av = moving_average(y, window_size)\n",
    "    plt.plot(x, y_av, color='green')\n",
    "    plt.xlim(0, 1000)\n",
    "    plt.xlabel(text_xlabel)\n",
    "    plt.ylabel(text_ylabel)\n",
    "\n",
    "    #Query for the anomalies and plot the same\n",
    "    events = {}\n",
    "    if applying_rolling_std:\n",
    "        events = explain_anomalies_rolling_std(y, window_size=window_size, sigma=sigma_value)\n",
    "    else:\n",
    "        events = explain_anomalies(y, window_size=window_size, sigma=sigma_value)\n",
    "\n",
    "    x_anomaly = np.fromiter(events['anomalies_dict'].keys(), dtype=int, count=len(events['anomalies_dict']))\n",
    "    y_anomaly = np.fromiter(events['anomalies_dict'].values(), dtype=float,\n",
    "                                            count=len(events['anomalies_dict']))\n",
    "    plt.plot(x_anomaly, y_anomaly, \"r*\", markersize=12)\n",
    "\n",
    "    #Add grid and lines and enable the plot\n",
    "    plt.grid(True)\n",
    "    plt.show()"
   ]
  },
  {
   "cell_type": "code",
   "execution_count": 16,
   "metadata": {},
   "outputs": [
    {
     "data": {
      "image/png": "[encoded data removed]",
      "text/plain": [
       "<Figure size 1080x576 with 1 Axes>"
      ]
     },
     "metadata": {
      "needs_background": "light"
     },
     "output_type": "display_data"
    },
    {
     "name": "stdout",
     "output_type": "stream",
     "text": [
      "Information about the anomalies model:{'standard_deviation': 5989.24, 'anomalies_dict': OrderedDict([(203, 39229.86), (268, 92522.34), (271, 84129.75), (273, 11490.86), (337, 16334.81), (338, 69733.4), (502, 83795.24), (538, 57386.4), (573, 60778.65), (630, 38328.24), (631, 47235.39), (632, 166475.47), (634, 103505.4), (635, 154575.38), (637, 45675.31), (704, 69042.59)])}\n"
     ]
    }
   ],
   "source": [
    "x = data['days']\n",
    "y = data['total_sales']\n",
    "\n",
    "# plot the results\n",
    "plot_results(x, y=Y, window_size=10, text_xlabel=\"Days\", sigma_value=3,\n",
    "             text_ylabel=\"Total_Sales\")\n",
    "events = explain_anomalies(y, window_size=5, sigma=3)\n",
    "\n",
    "# Display the anomaly dict\n",
    "print(\"Information about the anomalies model:{}\".format(events))"
   ]
  },
  {
   "cell_type": "code",
   "execution_count": null,
   "metadata": {},
   "outputs": [],
   "source": []
  }
 ],
 "metadata": {
  "kernelspec": {
   "display_name": "Python 3",
   "language": "python",
   "name": "python3"
  },
  "language_info": {
   "codemirror_mode": {
    "name": "ipython",
    "version": 3
   },
   "file_extension": ".py",
   "mimetype": "text/x-python",
   "name": "python",
   "nbconvert_exporter": "python",
   "pygments_lexer": "ipython3",
   "version": "3.7.1"
  }
 },
 "nbformat": 4,
 "nbformat_minor": 2
}
