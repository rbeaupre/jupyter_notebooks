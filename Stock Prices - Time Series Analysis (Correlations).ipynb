{
 "cells": [
  {
   "cell_type": "markdown",
   "metadata": {},
   "source": [
    "## Stock Prices - Time Series Analysis (Correlations)\n",
    "\n",
    "By: Renaud Justin Beaupre"
   ]
  },
  {
   "cell_type": "markdown",
   "metadata": {},
   "source": [
    "Using financial data provided by QUANDL's API, we're going to perform a correlation-specific time series analysis on the close prices for `Facebook (FB)`, `3M (MMM)`, `IBM (IBM)`, and `Amazon (AMZN)` from 2012-2017.\n",
    "\n",
    "Afterwards, we're going to resample the data so that we can train up a variety of machine-learning and classification algorithms to help us detect outliers in the stock movement."
   ]
  },
  {
   "cell_type": "markdown",
   "metadata": {},
   "source": [
    "If you wish to use the QUANDL service, you will need to create an account and get an API Key. Here is the short description of steps:\n",
    "\n",
    "- Go to https://www.quandl.com/\n",
    "- Click either sign up at the top right corner of the home page, or scroll all the way down and click `Create Free Account` button at the bottom of the page.\n",
    "- Create an account. \n",
    "- You will receive an email to the email address you have used during the registration. Confirm your email."
   ]
  },
  {
   "cell_type": "code",
   "execution_count": 1,
   "metadata": {},
   "outputs": [],
   "source": [
    "import pandas as pd\n",
    "import matplotlib.pyplot as plt\n",
    "%matplotlib inline\n",
    "import datetime\n",
    "import pandas_datareader.data as web"
   ]
  },
  {
   "cell_type": "code",
   "execution_count": 2,
   "metadata": {},
   "outputs": [],
   "source": [
    "import quandl\n",
    "quandl.ApiConfig.api_key = \"7KVU4unxSGkH32E9z9N9\""
   ]
  },
  {
   "cell_type": "code",
   "execution_count": 3,
   "metadata": {},
   "outputs": [],
   "source": [
    "start = datetime.datetime(2012, 7, 31)\n",
    "end = datetime.datetime(2017, 6, 30)\n",
    "\n",
    "amzn = web.DataReader('WIKI/AMZN', 'quandl', start, end, access_key='7KVU4unxSGkH32E9z9N9')\n",
    "fb = web.DataReader('WIKI/FB', 'quandl', start, end, access_key='7KVU4unxSGkH32E9z9N9')\n",
    "ibm = web.DataReader('WIKI/IBM', 'quandl', start, end, access_key='7KVU4unxSGkH32E9z9N9')\n",
    "mmm = web.DataReader('WIKI/MMM', 'quandl', start, end, access_key='7KVU4unxSGkH32E9z9N9')"
   ]
  },
  {
   "cell_type": "code",
   "execution_count": 4,
   "metadata": {},
   "outputs": [],
   "source": [
    "amzn_adjclose_resample = amzn['AdjClose'].resample('BM').last()\n",
    "fb_adjclose_resample = fb['AdjClose'].resample('BM').last()\n",
    "ibm_adjclose_resample = ibm['AdjClose'].resample('BM').last()\n",
    "mmm_adjclose_resample = mmm['AdjClose'].resample('BM').last() #We're going to be using the last adjusted close price of the business month ('BM') and looking at autocorrelations to understand stationarity"
   ]
  },
  {
   "cell_type": "code",
   "execution_count": 5,
   "metadata": {},
   "outputs": [
    {
     "data": {
      "image/png": "[encoded data removed]",
      "text/plain": [
       "<Figure size 432x288 with 1 Axes>"
      ]
     },
     "metadata": {
      "needs_background": "light"
     },
     "output_type": "display_data"
    }
   ],
   "source": [
    "amzn_autocorr = pd.plotting.autocorrelation_plot(amzn_adjclose_resample)\n",
    "amzn_autocorr;"
   ]
  },
  {
   "cell_type": "code",
   "execution_count": null,
   "metadata": {},
   "outputs": [],
   "source": [
    "fb_autocorr = pd.plotting.autocorrelation_plot(fb_adjclose_resample)\n",
    "fb_autocorr;"
   ]
  },
  {
   "cell_type": "code",
   "execution_count": null,
   "metadata": {},
   "outputs": [],
   "source": [
    "ibm_autocorr = pd.plotting.autocorrelation_plot(ibm_adjclose_resample)\n",
    "ibm_autocorr;"
   ]
  },
  {
   "cell_type": "code",
   "execution_count": null,
   "metadata": {},
   "outputs": [],
   "source": [
    "mmm_autocorr = pd.plotting.autocorrelation_plot(mmm_adjclose_resample)\n",
    "mmm_autocorr; #All the stocks appear to exhibit varying degrees of positive autocorrelation, as their plotted values i) form a relatively smooth and snake-like curve and ii) take on one or more significantly non-zero autocorrelation values between lag >= 0 and <= 60 at critical points on or past the 95% & 99% confidence bands"
   ]
  },
  {
   "cell_type": "code",
   "execution_count": null,
   "metadata": {},
   "outputs": [],
   "source": [
    "amzn_return = (amzn_adjclose_resample/amzn_adjclose_resample.shift(1)-1)\n",
    "fb_return = (fb_adjclose_resample/fb_adjclose_resample.shift(1)-1)\n",
    "ibm_return = (ibm_adjclose_resample/ibm_adjclose_resample.shift(1)-1)\n",
    "mmm_return = (mmm_adjclose_resample/mmm_adjclose_resample.shift(1)-1)"
   ]
  },
  {
   "cell_type": "code",
   "execution_count": null,
   "metadata": {},
   "outputs": [],
   "source": [
    "amzn_return_clean = pd.Series(amzn_return.dropna(), name='amzn')\n",
    "fb_return_clean = pd.Series(fb_return.dropna(), name='fb')\n",
    "ibm_return_clean = pd.Series(ibm_return.dropna(), name='ibm')\n",
    "mmm_return_clean = pd.Series(mmm_return.dropna(), name='mmm') #We can drop the NaNs because we're not using anything before 2012-07-31 (i.e. 2012-06-30) "
   ]
  },
  {
   "cell_type": "code",
   "execution_count": null,
   "metadata": {},
   "outputs": [],
   "source": [
    "amzn_autocorr_2 = pd.plotting.autocorrelation_plot(amzn_return_clean)\n",
    "amzn_autocorr_2;"
   ]
  },
  {
   "cell_type": "code",
   "execution_count": null,
   "metadata": {},
   "outputs": [],
   "source": [
    "fb_autocorr_2 = pd.plotting.autocorrelation_plot(fb_return_clean)\n",
    "fb_autocorr_2;"
   ]
  },
  {
   "cell_type": "code",
   "execution_count": null,
   "metadata": {},
   "outputs": [],
   "source": [
    "ibm_autocorr_2 = pd.plotting.autocorrelation_plot(ibm_return_clean)\n",
    "ibm_autocorr_2;"
   ]
  },
  {
   "cell_type": "code",
   "execution_count": null,
   "metadata": {},
   "outputs": [],
   "source": [
    "mmm_autocorr_2 = pd.plotting.autocorrelation_plot(mmm_return_clean)\n",
    "mmm_autocorr_2; #The stocks don't show any sort of significant non-zero autocorrelation values at any lag periods... Except for AMZN which registers some significant negative autocorrelation values at lag periods ~6 and ~12"
   ]
  },
  {
   "cell_type": "code",
   "execution_count": null,
   "metadata": {},
   "outputs": [],
   "source": [
    "stocks_concat = pd.concat([amzn_return_clean, fb_return_clean, ibm_return_clean, mmm_return_clean], axis=1)\n",
    "stocks_concat"
   ]
  },
  {
   "cell_type": "code",
   "execution_count": null,
   "metadata": {},
   "outputs": [],
   "source": [
    "scatter_stocks = pd.plotting.scatter_matrix(stocks_concat, figsize=(10,8), diagonal='hist')\n",
    "scatter_stocks; #Now that we've correlated the stocks with each other, the scatter matrix doesn't appear to show any strong positive or negative correlations. There are some weaker-looking positive correlations that emerge if you look carefully at amzn-mmm and ibm-mmm but it's not that visually apparent."
   ]
  },
  {
   "cell_type": "code",
   "execution_count": null,
   "metadata": {},
   "outputs": [],
   "source": [
    "stocks_concat.corr() #Seems like we did pick out the strongest correlations already."
   ]
  },
  {
   "cell_type": "code",
   "execution_count": null,
   "metadata": {},
   "outputs": [],
   "source": [
    "import seaborn as sns\n",
    "\n",
    "corrmat = stocks_concat.corr()\n",
    "f, ax = plt.subplots(figsize=(12, 9))\n",
    "sns.heatmap(corrmat, center=0, square=True); #So pretty"
   ]
  }
 ],
 "metadata": {
  "kernelspec": {
   "display_name": "Python 3",
   "language": "python",
   "name": "python3"
  },
  "language_info": {
   "codemirror_mode": {
    "name": "ipython",
    "version": 3
   },
   "file_extension": ".py",
   "mimetype": "text/x-python",
   "name": "python",
   "nbconvert_exporter": "python",
   "pygments_lexer": "ipython3",
   "version": "3.7.1"
  },
  "toc": {
   "base_numbering": 1,
   "nav_menu": {},
   "number_sections": false,
   "sideBar": true,
   "skip_h1_title": false,
   "title_cell": "Table of Contents",
   "title_sidebar": "Contents",
   "toc_cell": false,
   "toc_position": {},
   "toc_section_display": true,
   "toc_window_display": false
  }
 },
 "nbformat": 4,
 "nbformat_minor": 2
}
